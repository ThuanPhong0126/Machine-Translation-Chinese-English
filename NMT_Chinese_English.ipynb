{
  "nbformat": 4,
  "nbformat_minor": 0,
  "metadata": {
    "colab": {
      "name": "Untitled0.ipynb",
      "provenance": [],
      "collapsed_sections": [],
      "authorship_tag": "ABX9TyMSsseBKu0NbOt84E3HyysW",
      "include_colab_link": true
    },
    "kernelspec": {
      "name": "python3",
      "display_name": "Python 3"
    },
    "language_info": {
      "name": "python"
    },
    "accelerator": "GPU"
  },
  "cells": [
    {
      "cell_type": "markdown",
      "metadata": {
        "id": "view-in-github",
        "colab_type": "text"
      },
      "source": [
        "<a href=\"https://colab.research.google.com/github/ThuanPhong0126/Machine-Translation-Chinese-English/blob/main/NMT_Chinese_English.ipynb\" target=\"_parent\"><img src=\"https://colab.research.google.com/assets/colab-badge.svg\" alt=\"Open In Colab\"/></a>"
      ]
    },
    {
      "cell_type": "code",
      "metadata": {
        "colab": {
          "base_uri": "https://localhost:8080/"
        },
        "id": "7wnO1xHgLuaJ",
        "outputId": "024df845-d8cd-4de6-99cd-e93b6b330081"
      },
      "source": [
        "from google.colab import drive\n",
        "drive.mount(\"/content/drive\")"
      ],
      "execution_count": 1,
      "outputs": [
        {
          "output_type": "stream",
          "text": [
            "Drive already mounted at /content/drive; to attempt to forcibly remount, call drive.mount(\"/content/drive\", force_remount=True).\n"
          ],
          "name": "stdout"
        }
      ]
    },
    {
      "cell_type": "code",
      "metadata": {
        "colab": {
          "base_uri": "https://localhost:8080/"
        },
        "id": "xQTJUocCL-Pc",
        "outputId": "44bbba3b-da1a-432c-ccd2-131b65e81a53"
      },
      "source": [
        "cd /content/drive/MyDrive/Machine_Translation"
      ],
      "execution_count": 2,
      "outputs": [
        {
          "output_type": "stream",
          "text": [
            "/content/drive/MyDrive/Machine_Translation\n"
          ],
          "name": "stdout"
        }
      ]
    },
    {
      "cell_type": "markdown",
      "metadata": {
        "id": "HMvl1lg6MyyB"
      },
      "source": [
        "Encoder-Decoder Architecture\n",
        "\n",
        "![Encoder-Decoder Architecture](https://nthu-datalab.github.io/ml/labs/13-1_Seq2Seq-Learning_Neural-Machine-Translation/imgs/encoder_to_decoder.png)"
      ]
    },
    {
      "cell_type": "code",
      "metadata": {
        "id": "eNoJQz5eMVeE"
      },
      "source": [
        "import tensorflow as tf\n",
        "import matplotlib.pyplot as plt\n",
        "import matplotlib.ticker as ticker\n",
        "import unicodedata\n",
        "import re\n",
        "import numpy as np\n",
        "import os\n",
        "import time\n",
        "from sklearn.model_selection import train_test_split\n",
        "\n",
        "from pylab import *\n",
        "from matplotlib.font_manager import FontProperties"
      ],
      "execution_count": 3,
      "outputs": []
    },
    {
      "cell_type": "code",
      "metadata": {
        "colab": {
          "base_uri": "https://localhost:8080/"
        },
        "id": "Ovh39NefN33t",
        "outputId": "6a41c332-a933-4455-b3f9-2897d87c58c9"
      },
      "source": [
        "gpus = tf.config.experimental.list_physical_devices('GPU')\n",
        "if gpus:\n",
        "  try:\n",
        "    tf.config.experimental.set_visible_devices(gpus[0], 'GPU')\n",
        "    for gpu in gpus:\n",
        "      tf.config.experimental.set_memory_growth(gpu, True)\n",
        "    logical_gpus = tf.config.experimental.list_logical_devices('GPU')\n",
        "    print(len(gpus), \"Physical GPUs, \", len(logical_gpus), \"logical GPUs\")\n",
        "  except RuntimeError as e:\n",
        "    print(e)"
      ],
      "execution_count": 4,
      "outputs": [
        {
          "output_type": "stream",
          "text": [
            "1 Physical GPUs,  1 logical GPUs\n"
          ],
          "name": "stdout"
        }
      ]
    },
    {
      "cell_type": "code",
      "metadata": {
        "id": "95H2hko6Ov4V"
      },
      "source": [
        "path_dataset = \"./cmn.txt\""
      ],
      "execution_count": 5,
      "outputs": []
    },
    {
      "cell_type": "markdown",
      "metadata": {
        "id": "AvDNXV53TP7U"
      },
      "source": [
        "### Data Preprocessing"
      ]
    },
    {
      "cell_type": "code",
      "metadata": {
        "id": "CiCp2wgnPODS"
      },
      "source": [
        "def unicode_to_ascii(s):\n",
        "  return ''.join(c for c in unicodedata.normalize('NFD',s) if unicodedata.category(c)!='Mn')\n",
        "\n",
        "def preprocess_eng(w):\n",
        "  w = unicode_to_ascii(w.lower().strip())\n",
        "  #Python padding punctuation with white spaces keeping punctuation\n",
        "  w = re.sub(r\"([?.!,])\", r\" \\1 \", w)\n",
        "  #Replace several spaces with one spaces\n",
        "  w = re.sub(r'[\" \"]+',\" \",w)\n",
        "  #replacing everythong with space except (a-z, A-Z, \".\", \"?\", \"!\", \",\")\n",
        "  w = re.sub(r\"[^a-zA-Z?.!,]+\", \" \", w)\n",
        "  w = w.rstrip().strip()\n",
        "  w = '<start> '+w+' <end>'\n",
        "  return w\n",
        "\n",
        "def preprocess_chinese(w):\n",
        "  w= unicode_to_ascii(w.lower().strip())\n",
        "  w = re.sub(r'[\" \"]+', \"\", w)\n",
        "  w = w.rstrip().strip()\n",
        "  w = \" \".join(list(w))\n",
        "  w = '<start> '+w+' <end>'\n",
        "  return w"
      ],
      "execution_count": 6,
      "outputs": []
    },
    {
      "cell_type": "code",
      "metadata": {
        "colab": {
          "base_uri": "https://localhost:8080/"
        },
        "id": "MHjGy_FvRVS2",
        "outputId": "756566af-caf0-4d63-aaff-243be51f22d7"
      },
      "source": [
        "en_sentence = u\"May I borrow this book?\"\n",
        "chn_sentence = u\"我可以借這本書麼？\"\n",
        "print(preprocess_eng(en_sentence))\n",
        "print(preprocess_chinese(chn_sentence))\n",
        "print(preprocess_chinese(chn_sentence).encode('utf-8'))"
      ],
      "execution_count": 7,
      "outputs": [
        {
          "output_type": "stream",
          "text": [
            "<start> may i borrow this book ? <end>\n",
            "<start> 我 可 以 借 這 本 書 麼 ？ <end>\n",
            "b'<start> \\xe6\\x88\\x91 \\xe5\\x8f\\xaf \\xe4\\xbb\\xa5 \\xe5\\x80\\x9f \\xe9\\x80\\x99 \\xe6\\x9c\\xac \\xe6\\x9b\\xb8 \\xe9\\xba\\xbc \\xef\\xbc\\x9f <end>'\n"
          ],
          "name": "stdout"
        }
      ]
    },
    {
      "cell_type": "code",
      "metadata": {
        "colab": {
          "base_uri": "https://localhost:8080/"
        },
        "id": "NtPoJv-eRYhI",
        "outputId": "2ecbaf38-c24a-4998-affb-684f62b3e7b8"
      },
      "source": [
        "def create_dataset(path_dataset, num_examples=None):\n",
        "  lines = open(path_dataset, encoding='UTF-8').read().strip().split('\\n')\n",
        "  word_pairs = [[w for w in l.split('\\t')[:2]] for l in lines]\n",
        "  word_pairs = [[preprocess_eng(w[0]), preprocess_chinese(w[1])] for w in word_pairs]\n",
        "  return word_pairs\n",
        "\n",
        "word_pairs = create_dataset(path_dataset)\n",
        "word_pairs[50:60]"
      ],
      "execution_count": 8,
      "outputs": [
        {
          "output_type": "execute_result",
          "data": {
            "text/plain": [
              "[['<start> he runs . <end>', '<start> 他 跑 。 <end>'],\n",
              " ['<start> help me . <end>', '<start> 帮 我 一 下 。 <end>'],\n",
              " ['<start> help us . <end>', '<start> 帮 帮 我 们 吧 ！ <end>'],\n",
              " ['<start> hit tom . <end>', '<start> 去 打 汤 姆 。 <end>'],\n",
              " ['<start> hold on . <end>', '<start> 坚 持 。 <end>'],\n",
              " ['<start> hug tom . <end>', '<start> 抱 抱 汤 姆 ！ <end>'],\n",
              " ['<start> hug tom . <end>', '<start> 请 抱 紧 汤 姆 。 <end>'],\n",
              " ['<start> i agree . <end>', '<start> 我 同 意 。 <end>'],\n",
              " ['<start> i m ill . <end>', '<start> 我 生 病 了 。 <end>'],\n",
              " ['<start> i m sad . <end>', '<start> 我 很 难 过 。 <end>']]"
            ]
          },
          "metadata": {},
          "execution_count": 8
        }
      ]
    },
    {
      "cell_type": "code",
      "metadata": {
        "colab": {
          "base_uri": "https://localhost:8080/"
        },
        "id": "7-JUt9BKTFSI",
        "outputId": "b4f2aa3e-085a-4107-a039-30966952e239"
      },
      "source": [
        "en, ch = zip(*create_dataset(path_dataset))\n",
        "print(en[-1])\n",
        "print(ch[-1])\n",
        "assert len(en)==len(ch)\n",
        "print(\"Size: \", len(en))"
      ],
      "execution_count": 9,
      "outputs": [
        {
          "output_type": "stream",
          "text": [
            "<start> if a person has not had a chance to acquire his target language by the time he s an adult , he s unlikely to be able to reach native speaker level in that language . <end>\n",
            "<start> 如 果 一 個 人 在 成 人 前 沒 有 機 會 習 得 目 標 語 言 ， 他 對 該 語 言 的 認 識 達 到 母 語 者 程 度 的 機 會 是 相 當 小 的 。 <end>\n",
            "Size:  26388\n"
          ],
          "name": "stdout"
        }
      ]
    },
    {
      "cell_type": "code",
      "metadata": {
        "id": "4b-cWGa8TrQD"
      },
      "source": [
        "def max_length(tensor):\n",
        "  return max(len(t) for t in tensor)\n",
        "\n",
        "def tokenize(lang):\n",
        "  lang_tokenizer = tf.keras.preprocessing.text.Tokenizer(filters='')\n",
        "  #generate a dictionary\n",
        "  lang_tokenizer.fit_on_texts(lang)\n",
        "  #output the vector sequences\n",
        "  tensor = lang_tokenizer.texts_to_sequences(lang)\n",
        "  #padding sentences to the same length\n",
        "  tensor = tf.keras.preprocessing.sequence.pad_sequences(tensor, padding='post')\n",
        "  return tensor, lang_tokenizer\n",
        "\n",
        "def load_dataset(path, num_examples=None):\n",
        "  # creating cleaned input, output pairs\n",
        "  # regard Chinese as source sentence, regard English as target sentence\n",
        "  target_lang, input_lang = zip(*create_dataset(path_dataset, num_examples))\n",
        "  input_tensor, input_lang_tokenizer = tokenize(input_lang)\n",
        "  target_tensor, target_lang_tokenizer = tokenize(target_lang)\n",
        "  return input_tensor, target_tensor, input_lang_tokenizer, target_lang_tokenizer"
      ],
      "execution_count": 10,
      "outputs": []
    },
    {
      "cell_type": "code",
      "metadata": {
        "colab": {
          "base_uri": "https://localhost:8080/"
        },
        "id": "QVUM9wmWXq5e",
        "outputId": "5f9b503c-ce2d-448a-d313-c6eb64b1afe9"
      },
      "source": [
        "num_examples = 15000\n",
        "input_tensor, target_tensor, input_lang, target_lang = load_dataset(path_dataset, num_examples)\n",
        "\n",
        "# Calculate max_length of the target tensors\n",
        "max_length_targ, max_length_inp = max_length(target_tensor), max_length(input_tensor)\n",
        "\n",
        "#Creating training and validation sets\n",
        "input_tensor_train, input_tensor_val, target_tensor_train, target_tensor_val = train_test_split(\n",
        "    input_tensor, target_tensor, test_size = 0.1\n",
        ")\n",
        "\n",
        "print(f\"Training data: {len(input_tensor_train)}\\nTest data: {len(input_tensor_val)}\")"
      ],
      "execution_count": 11,
      "outputs": [
        {
          "output_type": "stream",
          "text": [
            "Training data: 23749\n",
            "Test data: 2639\n"
          ],
          "name": "stdout"
        }
      ]
    },
    {
      "cell_type": "code",
      "metadata": {
        "colab": {
          "base_uri": "https://localhost:8080/"
        },
        "id": "71Ett-rFZAT-",
        "outputId": "fcb123b5-5bfa-468e-d73d-1aeffc94b02f"
      },
      "source": [
        "def convert(lang, tensor):\n",
        "  for t in tensor:\n",
        "    if t != 0:\n",
        "      print(f\"{t} ----> {lang.index_word[t]}\")\n",
        "\n",
        "print(\"Input Language; index to word mapping\")\n",
        "convert(input_lang, input_tensor_train[0])\n",
        "print()\n",
        "print(\"Target language; index to word mapping\")\n",
        "convert(target_lang, target_tensor_train[0])"
      ],
      "execution_count": 12,
      "outputs": [
        {
          "output_type": "stream",
          "text": [
            "Input Language; index to word mapping\n",
            "1 ----> <start>\n",
            "7 ----> 你\n",
            "26 ----> 們\n",
            "13 ----> 在\n",
            "513 ----> 哭\n",
            "40 ----> 嗎\n",
            "11 ----> ？\n",
            "2 ----> <end>\n",
            "\n",
            "Target language; index to word mapping\n",
            "1 ----> <start>\n",
            "31 ----> are\n",
            "7 ----> you\n",
            "759 ----> guys\n",
            "692 ----> crying\n",
            "9 ----> ?\n",
            "2 ----> <end>\n"
          ],
          "name": "stdout"
        }
      ]
    },
    {
      "cell_type": "markdown",
      "metadata": {
        "id": "L0Lu75yMbNMr"
      },
      "source": [
        "### Create a tf.data dataset"
      ]
    },
    {
      "cell_type": "code",
      "metadata": {
        "colab": {
          "base_uri": "https://localhost:8080/"
        },
        "id": "N2aGj053aWZT",
        "outputId": "ba64b3f1-3cf0-4c22-cfa4-2a904192b9b6"
      },
      "source": [
        "BUFFER_SIZE = len(input_tensor_train)\n",
        "BATCH_SIZE = 128\n",
        "steps_per_epochs = len(input_tensor_train)//BATCH_SIZE\n",
        "embedding_dim = 256\n",
        "units = 1024\n",
        "\n",
        "vocab_input_size = len(input_lang.word_index)+1\n",
        "vocab_target_size = len(target_lang.word_index)+1\n",
        "\n",
        "dataset = tf.data.Dataset.from_tensor_slices(\n",
        "    (input_tensor_train, target_tensor_train)).shuffle(BUFFER_SIZE)\n",
        "dataset = dataset.batch(BATCH_SIZE, drop_remainder=True)\n",
        "\n",
        "example_input_batch, example_target_batch = next(iter(dataset))\n",
        "example_input_batch.shape, example_target_batch.shape "
      ],
      "execution_count": 13,
      "outputs": [
        {
          "output_type": "execute_result",
          "data": {
            "text/plain": [
              "(TensorShape([128, 46]), TensorShape([128, 38]))"
            ]
          },
          "metadata": {},
          "execution_count": 13
        }
      ]
    },
    {
      "cell_type": "markdown",
      "metadata": {
        "id": "MbL_SCkOdPWO"
      },
      "source": [
        "### Encoder"
      ]
    },
    {
      "cell_type": "code",
      "metadata": {
        "id": "MwwSvpn2cb5l"
      },
      "source": [
        "class Encoder(tf.keras.Model):\n",
        "  def __init__(self, vocab_size, embedding_dim, enc_units, batch_size):\n",
        "    super(Encoder, self).__init__()\n",
        "    self.batch_size = batch_size\n",
        "    self.enc_units = enc_units\n",
        "    self.embedding = tf.keras.layers.Embedding(vocab_size, embedding_dim)\n",
        "    self.gru = tf.keras.layers.GRU(self.enc_units,\n",
        "                                   return_sequences=True, \n",
        "                                   return_state = True,\n",
        "                                   recurrent_activation='sigmoid',\n",
        "                                   recurrent_initializer='glorot_uniform')\n",
        "  def call(self,x , hidden):\n",
        "    #after embedding, x.shape==(batch_size, max_length, embedding_dim)->(128,46,256)\n",
        "    x = self.embedding(x)\n",
        "    #output shape==(batch_size, max length, units)->(128, 46, 1024)\n",
        "    #state is the hidde state of the last timestamp, shape=(batch_size, units)->(128,1024)\n",
        "    output, state = self.gru(x, initial_state=hidden)\n",
        "\n",
        "    return output, state\n",
        "\n",
        "  def initialize_hidden_state(self):\n",
        "    return tf.zeros((self.batch_size, self.enc_units))"
      ],
      "execution_count": 14,
      "outputs": []
    },
    {
      "cell_type": "code",
      "metadata": {
        "colab": {
          "base_uri": "https://localhost:8080/"
        },
        "id": "6gJwsjq_hGgt",
        "outputId": "0280c2d3-2b1a-4eed-a453-b5e37b38e5b0"
      },
      "source": [
        "encoder = Encoder(vocab_input_size, embedding_dim, units, BATCH_SIZE)\n",
        "\n",
        "#Sample input\n",
        "sample_hidden = encoder.initialize_hidden_state()\n",
        "sample_output, sample_hidden = encoder(example_input_batch, sample_hidden)\n",
        "print('Encoder output shape: ', sample_output.shape)\n",
        "print('Encoder hidden state shape: ', sample_hidden.shape)\n",
        "\n",
        "# the output and the hidden state of GRU is equal\n",
        "print(sample_output[-1, -1, :] == sample_hidden[-1, :])"
      ],
      "execution_count": 15,
      "outputs": [
        {
          "output_type": "stream",
          "text": [
            "Encoder output shape:  (128, 46, 1024)\n",
            "Encoder hidden state shape:  (128, 1024)\n",
            "tf.Tensor([ True  True  True ...  True  True  True], shape=(1024,), dtype=bool)\n"
          ],
          "name": "stdout"
        }
      ]
    },
    {
      "cell_type": "markdown",
      "metadata": {
        "id": "ENwulS6GiY6t"
      },
      "source": [
        "### Attention"
      ]
    },
    {
      "cell_type": "code",
      "metadata": {
        "id": "OWhGX3doiRtw"
      },
      "source": [
        "class BahdanauAttention(tf.keras.Model):\n",
        "  def __init__(self, units):\n",
        "    super(BahdanauAttention, self).__init__()\n",
        "    self.W1 = tf.keras.layers.Dense(units)\n",
        "    self.W2 = tf.keras.layers.Dense(units)\n",
        "    self.V = tf.keras.layers.Dense(1)\n",
        "\n",
        "  def call(self, query, values):\n",
        "    #query shape == (batch size, hidden size)\n",
        "    #hidden with time axis shape == (batch size,1, hidden size)\n",
        "    #i am doing this to perform addition to calculate the score\n",
        "    hidden_with_time_axis = tf.expand_dims(query, 1)\n",
        "\n",
        "    #score shape == (batch size, max length, 1)\n",
        "    #we get 1 at the last axis bacause we are applying score to self.V\n",
        "    #the shape of the tensor before applying self.V is (batch size, max length, units)\n",
        "    score = self.V(tf.nn.tanh(self.W1(values) + self.W2(hidden_with_time_axis)))\n",
        "\n",
        "    #attention weights shape == (batch size, max length, 1)\n",
        "    attention_weights = tf.nn.softmax(score, axis=1)\n",
        "\n",
        "    #context vector shape == (batch size, max length, hidden size)\n",
        "    context_vector = attention_weights * values\n",
        "\n",
        "    #context vector shape after sum == (batch size, hidden size)\n",
        "    context_vector = tf.reduce_sum(context_vector, axis=1)\n",
        "\n",
        "    return context_vector, attention_weights"
      ],
      "execution_count": 16,
      "outputs": []
    },
    {
      "cell_type": "code",
      "metadata": {
        "colab": {
          "base_uri": "https://localhost:8080/"
        },
        "id": "OLJ0EjkXk19d",
        "outputId": "122fad54-dd38-4ccf-b620-ecd95dd70e42"
      },
      "source": [
        "attention_layer = BahdanauAttention(10)\n",
        "attention_result, attention_weights = attention_layer(sample_hidden, sample_output)\n",
        "\n",
        "print(\"Attention result shape: (batch size, units) {}\".format(attention_result.shape))\n",
        "print(\"Attention weights shape: (batch_size, sequence_length, 1) {}\".format(attention_weights.shape))"
      ],
      "execution_count": 17,
      "outputs": [
        {
          "output_type": "stream",
          "text": [
            "Attention result shape: (batch size, units) (128, 1024)\n",
            "Attention weights shape: (batch_size, sequence_length, 1) (128, 46, 1)\n"
          ],
          "name": "stdout"
        }
      ]
    },
    {
      "cell_type": "markdown",
      "metadata": {
        "id": "ss9rHzXBpaEf"
      },
      "source": [
        "### Decoder"
      ]
    },
    {
      "cell_type": "code",
      "metadata": {
        "id": "gXw5zS6MlJbZ"
      },
      "source": [
        "class Decoder(tf.keras.Model):\n",
        "  def __init__(self, vocab_size, embedding_dim, dec_units, batch_sz):\n",
        "    super(Decoder, self).__init__()\n",
        "    self.batch_sz = batch_sz\n",
        "    self.dec_units = dec_units\n",
        "    self.embedding = tf.keras.layers.Embedding(vocab_size, embedding_dim)\n",
        "    self.gru = tf.keras.layers.GRU(self.dec_units,\n",
        "                                   return_sequences=True,\n",
        "                                   return_state=True,\n",
        "                                   recurrent_initializer='glorot_uniform')\n",
        "    # the dimension of the output is the vocab size, through the softmax function,\n",
        "    # this layer will return the probability of each word in the dictory\n",
        "    self.fc = tf.keras.layers.Dense(vocab_size)\n",
        "\n",
        "    #used for anttention\n",
        "    self.attention = BahdanauAttention(vocab_size)\n",
        "\n",
        "  def call(self, x, hidden, enc_output):\n",
        "    #This function outputs a result at each timestamp\n",
        "    #The hidden state of first timestamp in the decoder is the hidden state of last timestamp in the encoder\n",
        "    context_vector, attention_weights = self.attention(hidden, enc_output)\n",
        "\n",
        "    #x shape after passing through embedding == (batch size, 1, embedding dim)\n",
        "    x = self.embedding(x)\n",
        "\n",
        "    #concatenate the input x and the context vector, as the input of the GRU\n",
        "    #context vector shape==(batch size, units)->(128, 1024)\n",
        "    #x shape after concatenation==(batch size, 1, embedding dim+hidden size)->(128,1,1024+256)\n",
        "    x = tf.concat([tf.expand_dims(context_vector, 1), x], axis=-1)\n",
        "\n",
        "    # passing the concatenated vector to the GRU\n",
        "    # get the output and state of the current timestamp\n",
        "    # output shape == (batch_size, 1, units) -> (128, 1, 1024) \n",
        "    # state shape == (batch_size, units) -> (128, 1024)\n",
        "    output, state = self.gru(x)\n",
        "\n",
        "    #output shape == (batch size, hidden size)->(128, 1024)\n",
        "    output = tf.reshape(output, (-1, output.shape[2]))\n",
        "\n",
        "    #output shape==(batch size, vocab)->(128, 6082)\n",
        "    x = self.fc(output)\n",
        "\n",
        "    return x, state, attention_weights"
      ],
      "execution_count": 18,
      "outputs": []
    },
    {
      "cell_type": "code",
      "metadata": {
        "colab": {
          "base_uri": "https://localhost:8080/"
        },
        "id": "1J4jPUL41qM_",
        "outputId": "38e5ed94-b270-4c81-9197-00b4ea629c1d"
      },
      "source": [
        "decoder = Decoder(vocab_target_size, embedding_dim, units, BATCH_SIZE)\n",
        "sample_decoder_output, _, _ = decoder(tf.random.uniform((BATCH_SIZE, 1)), sample_hidden, sample_output)\n",
        "print('Decoder output shape: (batch_size, vocab size) {}'.format(sample_decoder_output.shape))"
      ],
      "execution_count": 19,
      "outputs": [
        {
          "output_type": "stream",
          "text": [
            "Decoder output shape: (batch_size, vocab size) (128, 6755)\n"
          ],
          "name": "stdout"
        }
      ]
    },
    {
      "cell_type": "markdown",
      "metadata": {
        "id": "Nibj6vOZmvAG"
      },
      "source": [
        "### Define the optimizer and the loss function"
      ]
    },
    {
      "cell_type": "code",
      "metadata": {
        "id": "gp_awSHw11Oo"
      },
      "source": [
        "optimizer = tf.keras.optimizers.Adam()\n",
        "loss_object = tf.keras.losses.SparseCategoricalCrossentropy(from_logits=True, reduction='none')\n",
        "\n",
        "def loss_function(real, pred):\n",
        "  mask = tf.math.logical_not(tf.math.equal(real, 0))\n",
        "  loss_ = loss_object(real, pred)\n",
        "\n",
        "  mask = tf.cast(mask, dtype=loss_.dtype)\n",
        "  loss_ *= mask\n",
        "\n",
        "  return tf.reduce_mean(loss_)"
      ],
      "execution_count": 20,
      "outputs": []
    },
    {
      "cell_type": "code",
      "metadata": {
        "id": "FqwZS0UCnu4f"
      },
      "source": [
        "checkpoint_dir = \"./checkpoints/chinese-eng\"\n",
        "checkpoint_prefix = os.path.join(checkpoint_dir, \"ckpt\")\n",
        "checkpoint = tf.train.Checkpoint(optimizer=optimizer,\n",
        "                                 encoder=encoder,\n",
        "                                 decoder=decoder)"
      ],
      "execution_count": 21,
      "outputs": []
    },
    {
      "cell_type": "code",
      "metadata": {
        "id": "vfYak6uSpdKh"
      },
      "source": [
        "@tf.function\n",
        "def train_step(inp, targ, enc_hidden):\n",
        "  loss = 0\n",
        "  with tf.GradientTape() as tape:\n",
        "    enc_output, enc_hidden = encoder(inp, enc_hidden)\n",
        "    dec_hidden = enc_hidden\n",
        "    #feed the <start> as the input of the decoder\n",
        "    #dec input shape == (batch size, 1)->(128, 1)\n",
        "    dec_input  =tf.expand_dims([target_lang.word_index['<start>']]*BATCH_SIZE,1)\n",
        "\n",
        "    # Teacher forcing - feeding the target as the next input\n",
        "    # because of the data preprocessing(add a start token to the sentence)\n",
        "    # the first word is <start>, so t starts from 1(not 0)\n",
        "    for t in range(1, targ.shape[1]):\n",
        "      # passing enc_output to the decoder\n",
        "      predictions, dec_hidden, _ = decoder(dec_input, dec_hidden, enc_output)\n",
        "\n",
        "      # targ[:, t] is the true label(index of the word) of every sentence(in a batch) \n",
        "      # at the current timestamp\n",
        "      # like [  85   18   25   25  ···  1047   79   13], shape == (batch_size,) -> (128,)\n",
        "      # predictions shape == (batch_size, vocab_size) -> (128, 6082)\n",
        "      loss += loss_function(targ[:, t], predictions)\n",
        "\n",
        "      # using teacher forcing\n",
        "      dec_input = tf.expand_dims(targ[:, t], 1)\n",
        "\n",
        "    batch_loss = (loss / int(targ.shape[1]))\n",
        "\n",
        "    #collect all trainable variables\n",
        "    variables = encoder.trainable_variables + decoder.trainable_variables\n",
        "\n",
        "    #calculate the gradients for the whole variables\n",
        "    gradients = tape.gradient(loss, variables)\n",
        "\n",
        "    #apply the gradients on the variables\n",
        "    optimizer.apply_gradients(zip(gradients, variables))\n",
        "\n",
        "    return batch_loss"
      ],
      "execution_count": 22,
      "outputs": []
    },
    {
      "cell_type": "code",
      "metadata": {
        "colab": {
          "base_uri": "https://localhost:8080/"
        },
        "id": "kdS4bCfBsqHj",
        "outputId": "654570a7-6ad9-4bef-f88c-feb0a44dd4af"
      },
      "source": [
        "EPOCHS = 25\n",
        "\n",
        "for epoch in range(EPOCHS):\n",
        "  start = time.time()\n",
        "\n",
        "  #get the initial hidden state of gru\n",
        "  enc_hidden = encoder.initialize_hidden_state()\n",
        "  total_loss = 0\n",
        "\n",
        "  for (batch, (inp, targ)) in enumerate(dataset.take(steps_per_epochs)):\n",
        "    batch_loss = train_step(inp, targ, enc_hidden)\n",
        "    total_loss += batch_loss\n",
        "\n",
        "    if batch_loss%100==0:\n",
        "      print(f'Epoch {epoch+1} Batch {batch} Loss {batch_loss.numpy()}')\n",
        "\n",
        "  #saving checkpoint the model every 5 epocs\n",
        "  if (epoch+1)%5==0:\n",
        "    checkpoint.save(file_prefix=checkpoint_prefix)\n",
        "\n",
        "  print(f'Epoch {epoch+1} Loss {total_loss/steps_per_epochs}')\n",
        "  print(f'time taken for 1 epoch {time.time()-start}')"
      ],
      "execution_count": 23,
      "outputs": [
        {
          "output_type": "stream",
          "text": [
            "Epoch 1 Loss 1.1043102741241455\n",
            "time taken for 1 epoch 333.83062839508057\n",
            "Epoch 2 Loss 0.8416135907173157\n",
            "time taken for 1 epoch 296.1163806915283\n",
            "Epoch 3 Loss 0.7129939794540405\n",
            "time taken for 1 epoch 296.3932695388794\n",
            "Epoch 4 Loss 0.6042443513870239\n",
            "time taken for 1 epoch 296.49609756469727\n",
            "Epoch 5 Loss 0.5030615925788879\n",
            "time taken for 1 epoch 298.59099864959717\n",
            "Epoch 6 Loss 0.41558945178985596\n",
            "time taken for 1 epoch 296.56155133247375\n",
            "Epoch 7 Loss 0.339623361825943\n",
            "time taken for 1 epoch 296.52263140678406\n",
            "Epoch 8 Loss 0.27388593554496765\n",
            "time taken for 1 epoch 296.4712345600128\n",
            "Epoch 9 Loss 0.21988479793071747\n",
            "time taken for 1 epoch 296.4626166820526\n",
            "Epoch 10 Loss 0.17386150360107422\n",
            "time taken for 1 epoch 298.2659709453583\n",
            "Epoch 11 Loss 0.13810282945632935\n",
            "time taken for 1 epoch 296.4075005054474\n",
            "Epoch 12 Loss 0.11114412546157837\n",
            "time taken for 1 epoch 296.42931604385376\n",
            "Epoch 13 Loss 0.0871957391500473\n",
            "time taken for 1 epoch 296.38758158683777\n",
            "Epoch 14 Loss 0.06751136481761932\n",
            "time taken for 1 epoch 296.345986366272\n",
            "Epoch 15 Loss 0.05408704653382301\n",
            "time taken for 1 epoch 298.4669647216797\n",
            "Epoch 16 Loss 0.044149186462163925\n",
            "time taken for 1 epoch 296.4625446796417\n",
            "Epoch 17 Loss 0.039111848920583725\n",
            "time taken for 1 epoch 296.4436573982239\n",
            "Epoch 18 Loss 0.03526785224676132\n",
            "time taken for 1 epoch 296.44602823257446\n",
            "Epoch 19 Loss 0.033726613968610764\n",
            "time taken for 1 epoch 296.3199260234833\n",
            "Epoch 20 Loss 0.032392263412475586\n",
            "time taken for 1 epoch 297.8742341995239\n",
            "Epoch 21 Loss 0.0300001110881567\n",
            "time taken for 1 epoch 296.45089197158813\n",
            "Epoch 22 Loss 0.026556268334388733\n",
            "time taken for 1 epoch 296.37048411369324\n",
            "Epoch 23 Loss 0.02470788173377514\n",
            "time taken for 1 epoch 296.3044652938843\n",
            "Epoch 24 Loss 0.023125633597373962\n",
            "time taken for 1 epoch 296.28900504112244\n",
            "Epoch 25 Loss 0.023114949464797974\n",
            "time taken for 1 epoch 297.87965989112854\n"
          ],
          "name": "stdout"
        }
      ]
    },
    {
      "cell_type": "code",
      "metadata": {
        "id": "VxznztgPt66m"
      },
      "source": [
        "def evaluate(sentence):\n",
        "  #max length target 38, max length input 64\n",
        "  attention_plot = np.zeros((max_length_targ, max_length_inp))\n",
        "  sentence = preprocess_chinese(sentence)\n",
        "\n",
        "  #convert each word to the index in the test sentence\n",
        "  inputs = [input_lang.word_index[i] for i in sentence.split(' ')]\n",
        "  inputs = tf.keras.preprocessing.sequence.pad_sequences([inputs],\n",
        "                                                         maxlen=max_length_inp,\n",
        "                                                         padding='post')\n",
        "  \n",
        "  inputs = tf.convert_to_tensor(inputs)\n",
        "  result = ''\n",
        "\n",
        "  #hidden shape==(1, 1024)\n",
        "  hidden = [tf.zeros((1, units))]\n",
        "\n",
        "  # enc out shape == (1, max_length_inp, 1024) -> (1, 46, 1024)\n",
        "  # enc hidden shape == (1, 1024)\n",
        "  enc_out, enc_hidden = encoder(inputs, hidden)\n",
        "\n",
        "  dec_hidden = enc_hidden\n",
        "  dec_input = tf.expand_dims([target_lang.word_index['<start>']], 0)\n",
        "\n",
        "  for t in range(max_length_targ):\n",
        "    predictions, dec_hidden, attention_weights = decoder(dec_input, dec_hidden, enc_out)\n",
        "\n",
        "    #storing the attention weights to plot later on\n",
        "    attention_weights = tf.reshape(attention_weights, (-1, ))\n",
        "    attention_plot[t] = attention_weights.numpy()\n",
        "\n",
        "    #get the index which has the highest probability\n",
        "    predicted_id = tf.argmax(predictions[0]).numpy()\n",
        "    #convert the index to the word\n",
        "    result += target_lang.index_word[predicted_id]+' '\n",
        "\n",
        "    #when the decoder predict the end, stop prediction\n",
        "    if target_lang.index_word[predicted_id] == '<end>':\n",
        "      return result, sentence, attention_plot\n",
        "\n",
        "    #the predict id is fed back into the model\n",
        "    dec_input = tf.expand_dims([predicted_id], 0)\n",
        "\n",
        "  return result, sentence, attention_plot\n",
        "\n",
        "def plot_attention(attention, sentence, predicted_sentence):\n",
        "  # you need to change the fname based on your system, and the Chinese can be displayed in the plot\n",
        "  font = FontProperties(fname=r\"./TaipeiSansTCBeta-Regular.ttf\", size=14)\n",
        "  fig = plt.figure(figsize=(10, 10))\n",
        "  ax = fig.add_subplot(1, 1, 1)\n",
        "  ax.matshow(attention, cmap='viridis')\n",
        "\n",
        "  fontdict = {'fontsize': 14}\n",
        "\n",
        "  # set the x-tick/y-tick labels with list of string labels\n",
        "  ax.set_xticklabels([''] + sentence, fontdict=fontdict, fontproperties=font)\n",
        "  ax.set_yticklabels([''] + predicted_sentence, fontdict=fontdict, fontproperties=font)\n",
        "\n",
        "  # set tick locators\n",
        "  ax.xaxis.set_major_locator(ticker.MultipleLocator(1))\n",
        "  ax.yaxis.set_major_locator(ticker.MultipleLocator(1))\n",
        "  plt.show()\n",
        "\n",
        "def translate(sentence):\n",
        "  result, sentence, attention_plot = evaluate(sentence)\n",
        "  print('Input: %s' % (sentence))\n",
        "  print('Predicted translation: {}'.format(result))\n",
        "\n",
        "  attention_plot = attention_plot[:len(result.split(' ')), :len(sentence.split(' '))]\n",
        "  plot_attention(attention_plot, sentence.split(' '), result.split(' '))"
      ],
      "execution_count": 30,
      "outputs": []
    },
    {
      "cell_type": "markdown",
      "metadata": {
        "id": "rXH3iZGUXZ3G"
      },
      "source": [
        "### Restore the latest checkpoint and test"
      ]
    },
    {
      "cell_type": "code",
      "metadata": {
        "colab": {
          "base_uri": "https://localhost:8080/"
        },
        "id": "2915TuHDXWHj",
        "outputId": "719d9a59-7ac9-4b9c-b9b3-7562f6e3b889"
      },
      "source": [
        "checkpoint_dir = './checkpoints/chinese-eng'\n",
        "print(tf.train.latest_checkpoint(checkpoint_dir))\n",
        "\n",
        "checkpoint.restore(tf.train.latest_checkpoint(checkpoint_dir))"
      ],
      "execution_count": 31,
      "outputs": [
        {
          "output_type": "stream",
          "text": [
            "./checkpoints/chinese-eng/ckpt-5\n"
          ],
          "name": "stdout"
        },
        {
          "output_type": "execute_result",
          "data": {
            "text/plain": [
              "<tensorflow.python.training.tracking.util.CheckpointLoadStatus at 0x7efec7757150>"
            ]
          },
          "metadata": {},
          "execution_count": 31
        }
      ]
    },
    {
      "cell_type": "code",
      "metadata": {
        "colab": {
          "base_uri": "https://localhost:8080/",
          "height": 597
        },
        "id": "mv541LhYXq8P",
        "outputId": "3e334538-1793-4cee-f408-9d3e8ec07262"
      },
      "source": [
        "translate('你今晚會去派對嗎?')"
      ],
      "execution_count": 32,
      "outputs": [
        {
          "output_type": "stream",
          "text": [
            "Input: <start> 你 今 晚 會 去 派 對 嗎 ? <end>\n",
            "Predicted translation: will you go to the party tonight ? <end> \n"
          ],
          "name": "stdout"
        },
        {
          "output_type": "display_data",
          "data": {
            "image/png": "[encoded data removed]",
            "text/plain": [
              "<Figure size 720x720 with 1 Axes>"
            ]
          },
          "metadata": {
            "needs_background": "light"
          }
        }
      ]
    },
    {
      "cell_type": "code",
      "metadata": {
        "colab": {
          "base_uri": "https://localhost:8080/",
          "height": 594
        },
        "id": "bwGhEPFbYK83",
        "outputId": "ce349483-d228-4f04-cb8a-75c7d4f182a4"
      },
      "source": [
        "translate('她明年會去美國嗎?')"
      ],
      "execution_count": 33,
      "outputs": [
        {
          "output_type": "stream",
          "text": [
            "Input: <start> 她 明 年 會 去 美 國 嗎 ? <end>\n",
            "Predicted translation: will she go to america next year ? <end> \n"
          ],
          "name": "stdout"
        },
        {
          "output_type": "display_data",
          "data": {
            "image/png": "[encoded data removed]",
            "text/plain": [
              "<Figure size 720x720 with 1 Axes>"
            ]
          },
          "metadata": {
            "needs_background": "light"
          }
        }
      ]
    },
    {
      "cell_type": "code",
      "metadata": {
        "id": "CRnudiY_2dTy"
      },
      "source": [
        ""
      ],
      "execution_count": null,
      "outputs": []
    }
  ]
}